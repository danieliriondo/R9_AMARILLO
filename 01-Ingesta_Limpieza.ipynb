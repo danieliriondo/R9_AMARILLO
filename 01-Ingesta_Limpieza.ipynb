{
 "cells": [
  {
   "cell_type": "code",
   "execution_count": 6,
   "id": "2b97b688",
   "metadata": {},
   "outputs": [],
   "source": [
    "import os\n",
    "import pandas as pd\n",
    "\n",
    "# Ruta raíz donde están las carpetas Datos, Originales, DowJones\n",
    "root_dir = ''\n",
    "\n",
    "# Lista para guardar los dataframes\n",
    "dataframes = []\n",
    "\n",
    "# Recorrer carpetas y subcarpetas buscando archivos CSV\n",
    "for folder in ['Datos', 'Originales', 'DowJones']:\n",
    "    folder_path = os.path.join(root_dir, folder)\n",
    "    for root, dirs, files in os.walk(folder_path):\n",
    "        for file in files:\n",
    "            if file.endswith('.csv'):\n",
    "                file_path = os.path.join(root, file)\n",
    "                df = pd.read_csv(file_path, index_col='date')\n",
    "                dataframes.append(df)\n",
    "\n",
    "# Unir todos los dataframes en uno solo\n",
    "df_completo = pd.concat(dataframes, ignore_index=False)\n"
   ]
  },
  {
   "cell_type": "code",
   "execution_count": 7,
   "id": "d48f1812",
   "metadata": {},
   "outputs": [
    {
     "data": {
      "application/vnd.microsoft.datawrangler.viewer.v0+json": {
       "columns": [
        {
         "name": "date",
         "rawType": "object",
         "type": "string"
        },
        {
         "name": "open",
         "rawType": "float64",
         "type": "float"
        },
        {
         "name": "high",
         "rawType": "float64",
         "type": "float"
        },
        {
         "name": "low",
         "rawType": "float64",
         "type": "float"
        },
        {
         "name": "last",
         "rawType": "float64",
         "type": "float"
        },
        {
         "name": "close",
         "rawType": "float64",
         "type": "float"
        },
        {
         "name": "volume",
         "rawType": "float64",
         "type": "float"
        },
        {
         "name": "symbol",
         "rawType": "object",
         "type": "string"
        },
        {
         "name": "exchange",
         "rawType": "object",
         "type": "string"
        }
       ],
       "ref": "d1148d17-bf26-4445-936a-f5f202406526",
       "rows": [
        [
         "2018-08-16T21:30:00+0000",
         "213.37",
         "213.41",
         "213.3",
         null,
         "213.3",
         null,
         "AAPL",
         "IEXG"
        ],
        [
         "2018-08-16T21:00:00+0000",
         "213.28",
         "213.41",
         "213.16",
         null,
         "213.3",
         null,
         "AAPL",
         "IEXG"
        ],
        [
         "2018-08-16T20:30:00+0000",
         "213.43",
         "213.43",
         "212.985",
         null,
         "213.28",
         null,
         "AAPL",
         "IEXG"
        ],
        [
         "2018-08-16T20:00:00+0000",
         "213.133",
         "213.73",
         "212.985",
         null,
         "213.48",
         null,
         "AAPL",
         "IEXG"
        ],
        [
         "2018-08-16T19:30:00+0000",
         "213.273",
         "213.3",
         "213.133",
         null,
         "213.133",
         null,
         "AAPL",
         "IEXG"
        ]
       ],
       "shape": {
        "columns": 8,
        "rows": 5
       }
      },
      "text/html": [
       "<div>\n",
       "<style scoped>\n",
       "    .dataframe tbody tr th:only-of-type {\n",
       "        vertical-align: middle;\n",
       "    }\n",
       "\n",
       "    .dataframe tbody tr th {\n",
       "        vertical-align: top;\n",
       "    }\n",
       "\n",
       "    .dataframe thead th {\n",
       "        text-align: right;\n",
       "    }\n",
       "</style>\n",
       "<table border=\"1\" class=\"dataframe\">\n",
       "  <thead>\n",
       "    <tr style=\"text-align: right;\">\n",
       "      <th></th>\n",
       "      <th>open</th>\n",
       "      <th>high</th>\n",
       "      <th>low</th>\n",
       "      <th>last</th>\n",
       "      <th>close</th>\n",
       "      <th>volume</th>\n",
       "      <th>symbol</th>\n",
       "      <th>exchange</th>\n",
       "    </tr>\n",
       "    <tr>\n",
       "      <th>date</th>\n",
       "      <th></th>\n",
       "      <th></th>\n",
       "      <th></th>\n",
       "      <th></th>\n",
       "      <th></th>\n",
       "      <th></th>\n",
       "      <th></th>\n",
       "      <th></th>\n",
       "    </tr>\n",
       "  </thead>\n",
       "  <tbody>\n",
       "    <tr>\n",
       "      <th>2018-08-16T21:30:00+0000</th>\n",
       "      <td>213.370</td>\n",
       "      <td>213.41</td>\n",
       "      <td>213.300</td>\n",
       "      <td>NaN</td>\n",
       "      <td>213.300</td>\n",
       "      <td>NaN</td>\n",
       "      <td>AAPL</td>\n",
       "      <td>IEXG</td>\n",
       "    </tr>\n",
       "    <tr>\n",
       "      <th>2018-08-16T21:00:00+0000</th>\n",
       "      <td>213.280</td>\n",
       "      <td>213.41</td>\n",
       "      <td>213.160</td>\n",
       "      <td>NaN</td>\n",
       "      <td>213.300</td>\n",
       "      <td>NaN</td>\n",
       "      <td>AAPL</td>\n",
       "      <td>IEXG</td>\n",
       "    </tr>\n",
       "    <tr>\n",
       "      <th>2018-08-16T20:30:00+0000</th>\n",
       "      <td>213.430</td>\n",
       "      <td>213.43</td>\n",
       "      <td>212.985</td>\n",
       "      <td>NaN</td>\n",
       "      <td>213.280</td>\n",
       "      <td>NaN</td>\n",
       "      <td>AAPL</td>\n",
       "      <td>IEXG</td>\n",
       "    </tr>\n",
       "    <tr>\n",
       "      <th>2018-08-16T20:00:00+0000</th>\n",
       "      <td>213.133</td>\n",
       "      <td>213.73</td>\n",
       "      <td>212.985</td>\n",
       "      <td>NaN</td>\n",
       "      <td>213.480</td>\n",
       "      <td>NaN</td>\n",
       "      <td>AAPL</td>\n",
       "      <td>IEXG</td>\n",
       "    </tr>\n",
       "    <tr>\n",
       "      <th>2018-08-16T19:30:00+0000</th>\n",
       "      <td>213.273</td>\n",
       "      <td>213.30</td>\n",
       "      <td>213.133</td>\n",
       "      <td>NaN</td>\n",
       "      <td>213.133</td>\n",
       "      <td>NaN</td>\n",
       "      <td>AAPL</td>\n",
       "      <td>IEXG</td>\n",
       "    </tr>\n",
       "  </tbody>\n",
       "</table>\n",
       "</div>"
      ],
      "text/plain": [
       "                             open    high      low  last    close  volume  \\\n",
       "date                                                                        \n",
       "2018-08-16T21:30:00+0000  213.370  213.41  213.300   NaN  213.300     NaN   \n",
       "2018-08-16T21:00:00+0000  213.280  213.41  213.160   NaN  213.300     NaN   \n",
       "2018-08-16T20:30:00+0000  213.430  213.43  212.985   NaN  213.280     NaN   \n",
       "2018-08-16T20:00:00+0000  213.133  213.73  212.985   NaN  213.480     NaN   \n",
       "2018-08-16T19:30:00+0000  213.273  213.30  213.133   NaN  213.133     NaN   \n",
       "\n",
       "                         symbol exchange  \n",
       "date                                      \n",
       "2018-08-16T21:30:00+0000   AAPL     IEXG  \n",
       "2018-08-16T21:00:00+0000   AAPL     IEXG  \n",
       "2018-08-16T20:30:00+0000   AAPL     IEXG  \n",
       "2018-08-16T20:00:00+0000   AAPL     IEXG  \n",
       "2018-08-16T19:30:00+0000   AAPL     IEXG  "
      ]
     },
     "execution_count": 7,
     "metadata": {},
     "output_type": "execute_result"
    }
   ],
   "source": [
    "df_completo.head()"
   ]
  },
  {
   "cell_type": "code",
   "execution_count": 8,
   "id": "5941acd0",
   "metadata": {},
   "outputs": [
    {
     "data": {
      "application/vnd.microsoft.datawrangler.viewer.v0+json": {
       "columns": [
        {
         "name": "index",
         "rawType": "object",
         "type": "string"
        },
        {
         "name": "0",
         "rawType": "int64",
         "type": "integer"
        }
       ],
       "ref": "2364e1e7-8407-4d0f-98d3-940406084dd0",
       "rows": [
        [
         "open",
         "0"
        ],
        [
         "high",
         "0"
        ],
        [
         "low",
         "0"
        ],
        [
         "last",
         "57810"
        ],
        [
         "close",
         "24973"
        ],
        [
         "volume",
         "57677"
        ],
        [
         "symbol",
         "0"
        ],
        [
         "exchange",
         "0"
        ]
       ],
       "shape": {
        "columns": 1,
        "rows": 8
       }
      },
      "text/plain": [
       "open            0\n",
       "high            0\n",
       "low             0\n",
       "last        57810\n",
       "close       24973\n",
       "volume      57677\n",
       "symbol          0\n",
       "exchange        0\n",
       "dtype: int64"
      ]
     },
     "execution_count": 8,
     "metadata": {},
     "output_type": "execute_result"
    }
   ],
   "source": [
    "df.isna().sum()"
   ]
  },
  {
   "cell_type": "code",
   "execution_count": 9,
   "id": "ac434800",
   "metadata": {},
   "outputs": [
    {
     "data": {
      "text/plain": [
       "(136697, 8)"
      ]
     },
     "execution_count": 9,
     "metadata": {},
     "output_type": "execute_result"
    }
   ],
   "source": [
    "df.shape"
   ]
  }
 ],
 "metadata": {
  "kernelspec": {
   "display_name": "Amarillo_R9",
   "language": "python",
   "name": "python3"
  },
  "language_info": {
   "codemirror_mode": {
    "name": "ipython",
    "version": 3
   },
   "file_extension": ".py",
   "mimetype": "text/x-python",
   "name": "python",
   "nbconvert_exporter": "python",
   "pygments_lexer": "ipython3",
   "version": "3.13.7"
  }
 },
 "nbformat": 4,
 "nbformat_minor": 5
}
