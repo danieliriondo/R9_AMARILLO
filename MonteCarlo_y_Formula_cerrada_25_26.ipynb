{
  "cells": [
    {
      "cell_type": "markdown",
      "metadata": {
        "id": "AnOpCU41MpLP"
      },
      "source": [
        "## Simulación de MonteCarlo"
      ]
    },
    {
      "cell_type": "code",
      "execution_count": 1,
      "metadata": {
        "id": "DRzOvNx7HKqO"
      },
      "outputs": [],
      "source": [
        "import numpy as np\n",
        "from numpy.linalg import cholesky\n",
        "\n",
        "np.random.seed(77)"
      ]
    },
    {
      "cell_type": "code",
      "execution_count": 2,
      "metadata": {
        "id": "I85TjGgVGZNF"
      },
      "outputs": [],
      "source": [
        "def MonteCarlo(initial_maturity, S_0, num_sims, num_assets, num_asian_dates, value_date_index, correl_matrix,risk_free_rate, vols):\n",
        "    '''\n",
        "  Inputs:\n",
        "  -------\n",
        "  * S_0 (float): initial spot prices of the assets\n",
        "  * num_asian_dates (int): number of asian dates. Notice that this includes the initial date, which fixes the initial spot values.\n",
        "  * value_date_index (int): index, within the array of asian dates indicating the value date. (Actual step)\n",
        "  * risk_free_rate (float): risk free rate\n",
        "  * num_assets (int): number of underlying assets.\n",
        "  * vols (array(float)): array of indiv assets vols.\n",
        "  * correl_matrix (array(float, float)): matrix of correlations\n",
        "  * initial_maturity (float): maturity of the product as seen on initial spot fixing date. (Years)\n",
        "  * num_sims (int): number of simulations\n",
        "  Outputs:\n",
        "  --------\n",
        "  * rets (numpy.ndarray): simulation of the evolution of the assets. Shape (num_sims, num_asian_dates-1, num_assets)\n",
        "  * payoff (numpy.ndarray): Payoff of every simulation done. Shape (num_sims, )\n",
        "  * premium (numpy.float64): present value in the actual step given by value_date_index.\n",
        "  '''\n",
        "\n",
        "    # Inputs:\n",
        "\n",
        "    # Simulation of assets up to value date:\n",
        "\n",
        "    init_time_array = np.linspace(0, initial_maturity, num_asian_dates)\n",
        "\n",
        "    delta_t = initial_maturity / (num_asian_dates - 1)\n",
        "    num_steps = value_date_index\n",
        "    num_remaining_steps = num_asian_dates - value_date_index -1\n",
        "\n",
        "    # Independent brownians\n",
        "    inc_W = np.random.normal(size=(num_assets, num_steps), scale = np.sqrt(delta_t))\n",
        "\n",
        "    # Cholesky matrix\n",
        "    m = cholesky(correl_matrix)\n",
        "\n",
        "    # Correlated brownians\n",
        "    inc_W_correl = np.matmul(m, inc_W)\n",
        "\n",
        "    # Independent brownian motion (the axis order is done to be able to correlate them with a matrix multiplication)\n",
        "    inc_W_remaining = np.random.normal(size=(num_sims, num_remaining_steps, num_assets), scale = np.sqrt(delta_t))\n",
        "\n",
        "    # We correlate them\n",
        "    inc_W_correl_remaining = np.matmul(inc_W_remaining, m.T)\n",
        "\n",
        "    # We transpose the 3D matrix of correlated B. motion (path, asset, time step)\n",
        "\n",
        "    inc_W_correl_remaining = inc_W_correl_remaining.transpose([0,2,1])\n",
        "\n",
        "    aux = np.repeat(inc_W_correl[None,...],num_sims,axis=0)\n",
        "\n",
        "    # We attach the brownians obtained from t= 0 to value date\n",
        "\n",
        "    inc_W_correl_total = np.concatenate((aux, inc_W_correl_remaining), axis = 2)\n",
        "\n",
        "    # We compute exponential returns\n",
        "\n",
        "    gross_rets_total = np.exp((risk_free_rate - 0.5 *vols **2) * delta_t + vols * inc_W_correl_total)\n",
        "\n",
        "    # We simulate the underlyings\n",
        "\n",
        "    S_T = np.cumprod(np.concatenate((np.repeat(S_0.reshape(-1,1)[None,...],num_sims,axis=0), gross_rets_total), axis = 2), axis = 2)\n",
        "\n",
        "    # We compute the returns\n",
        "\n",
        "    rets = S_T[:,:,1:] / np.repeat(S_0.reshape(-1,1)[None,...],num_sims,axis=0)\n",
        "\n",
        "    payoff = np.maximum(np.sum(np.prod(rets, axis = (2))**(1/(num_assets * (num_asian_dates-1))), axis = 1)-3,0)\n",
        "\n",
        "    # Calculate the premium as the discounted average value\n",
        "\n",
        "    premium = np.mean(payoff*np.exp(-risk_free_rate*(initial_maturity-init_time_array[value_date_index])))\n",
        "\n",
        "    rets = rets.transpose([0,2,1])\n",
        "\n",
        "    return rets, payoff, premium"
      ]
    },
    {
      "cell_type": "code",
      "execution_count": 3,
      "metadata": {},
      "outputs": [],
      "source": [
        "from scipy.stats import norm\n",
        "\n",
        "N = norm.cdf\n",
        "\n",
        "def Black(Forward, Strike, TTM, rate, Vol, IsCall):\n",
        "\n",
        "  '''\n",
        "  Inputs:\n",
        "  -------\n",
        "    Forward (float): Forward value\n",
        "    Strike (float): strike price\n",
        "    TTM (float): time to maturity in years\n",
        "    rate (float): risk free rate\n",
        "    Vol (float): volatility\n",
        "    IsCall (bool): True if call option, False if put option\n",
        "  Outputs:\n",
        "  --------\n",
        "    Option premium (float)\n",
        "  '''\n",
        "\n",
        "  if TTM >0:\n",
        "\n",
        "    d1 = (np.log(Forward/Strike) + (Vol*Vol/2)*TTM)/(Vol*np.sqrt(TTM))\n",
        "    d2 = (np.log(Forward/Strike) + (- Vol*Vol/2)*TTM)/(Vol*np.sqrt(TTM))\n",
        "\n",
        "    if IsCall:\n",
        "\n",
        "      return (Forward*N(d1)-Strike*N(d2))*np.exp(-rate*TTM)\n",
        "\n",
        "    else:\n",
        "\n",
        "      return (-Forward*N(-d1)+Strike*N(-d2))*np.exp(-rate*TTM)\n",
        "\n",
        "  else:\n",
        "\n",
        "    if IsCall:\n",
        "\n",
        "      return np.maximum(Forward-Strike,0)\n",
        "\n",
        "    else:\n",
        "\n",
        "      return np.maximum(-Forward+Strike,0)"
      ]
    },
    {
      "cell_type": "code",
      "execution_count": 4,
      "metadata": {},
      "outputs": [],
      "source": [
        "def BasketGeomAsian(num_asian_dates, value_date_index, risk_free_rate, num_assets, assets_vol, assets_correl, initial_maturity, price_history, IsCall):\n",
        "  '''\n",
        "  Inputs:\n",
        "  -------\n",
        "  * num_asian_dates (int): number of asian dates. Notice that this includes the initial date, which fixes the initial spot values.\n",
        "  * value_date_index (int): index, within the array of asian dates indicating the value date.\n",
        "  * risk_free_rate (float): risk free rate\n",
        "  * num_assets (int): number of underlying assets.\n",
        "  * assets_vol (array(float)): array of indiv assets vols.\n",
        "  * assets_correl (array(float, float)): matrix of correlations\n",
        "  * initial_maturity (float): maturity of the product as seen on initial spot fixing date.\n",
        "  * price_history (array(float, float)): history of fixings of the underlyings up to value date. Assets per row, time steps per column.\n",
        "  * IsCall (bool): True if call option, False if put option\n",
        "  Outputs:\n",
        "  --------\n",
        "  * Option price (float)\n",
        "  '''\n",
        "\n",
        "  init_time_array = np.linspace(0, initial_maturity, num_asian_dates)\n",
        "\n",
        "  pending_times_array = init_time_array[value_date_index+1:] - init_time_array[value_date_index]\n",
        "\n",
        "  mu = np.sum(risk_free_rate - 0.5*assets_vol*assets_vol)*np.sum(pending_times_array) / (num_assets * (num_asian_dates-1))\n",
        "\n",
        "  diag_vol = np.diag(assets_vol.reshape(-1))\n",
        "\n",
        "  cov_matrix = np.matmul(diag_vol, np.matmul(assets_correl, diag_vol))\n",
        "\n",
        "  xx, yy = np.meshgrid(pending_times_array, pending_times_array, sparse=True)\n",
        "  z = np.minimum(xx, yy)\n",
        "\n",
        "  V = np.sum(cov_matrix) * np.sum(z) / (num_assets*num_assets*(num_asian_dates-1)*(num_asian_dates-1))\n",
        "\n",
        "  Forward = np.power(np.prod(price_history[:, 1:value_date_index+1] / price_history[:,0].reshape(-1,1)),1.0/(num_assets * (num_asian_dates-1)))\n",
        "\n",
        "  Forward *= np.power(np.prod(price_history[:,value_date_index] / price_history[:,0]), (num_asian_dates-value_date_index-1)/(num_assets * (num_asian_dates-1)))\n",
        "\n",
        "  Forward *= np.exp(mu + 0.5 * V)\n",
        "\n",
        "  remaining_maturity = initial_maturity - init_time_array[value_date_index]\n",
        "\n",
        "\n",
        "  return Black(Forward, 1.0, remaining_maturity, risk_free_rate,np.sqrt(V / remaining_maturity), IsCall)\n"
      ]
    },
    {
      "cell_type": "code",
      "execution_count": 5,
      "metadata": {
        "id": "Jbw7ezb2HI-9"
      },
      "outputs": [],
      "source": [
        "S_0 = np.array([1,1,1])\n",
        "num_steps = 20\n",
        "vols = np.array([0.29,0.38,0.33]).reshape(-1,1)\n",
        "risk_free_rate = 0.01\n",
        "\n",
        "\n",
        "TTM = initial_maturity = 5 #years\n",
        "value_date_index = 5 #actual step\n",
        "num_asian_dates = num_steps + 1 #Time steps + 1\n",
        "init_time_array = np.linspace(0, initial_maturity, num_asian_dates)\n",
        "\n",
        "rho = 0.1\n",
        "correl_matrix = rho = np.array([\n",
        "    [1, 0.275125, 0.329366],\n",
        "    [0.275125, 1, 0.381295],\n",
        "    [0.329366, 0.381295, 1]\n",
        "]) \n",
        "\n",
        "\n",
        "num_sims = 100000\n",
        "\n",
        "num_assets = 3 #numero de activos\n",
        "\n",
        "rets, payoff, premium = MonteCarlo(initial_maturity, S_0, num_sims, num_assets, num_asian_dates, value_date_index, correl_matrix,risk_free_rate, vols)"
      ]
    },
    {
      "cell_type": "code",
      "execution_count": 6,
      "metadata": {},
      "outputs": [
        {
          "name": "stdout",
          "output_type": "stream",
          "text": [
            "[[[1.02483539 0.69452105 0.94906196]\n",
            "  [1.11900687 0.74440623 1.17127183]\n",
            "  [1.02057297 0.53319234 0.88871561]\n",
            "  ...\n",
            "  [0.63693688 0.17206475 0.26833344]\n",
            "  [0.67225676 0.20161834 0.33230861]\n",
            "  [0.65371429 0.1524178  0.36082416]]\n",
            "\n",
            " [[1.02483539 0.69452105 0.94906196]\n",
            "  [1.11900687 0.74440623 1.17127183]\n",
            "  [1.02057297 0.53319234 0.88871561]\n",
            "  ...\n",
            "  [1.72532464 0.77897512 1.8417265 ]\n",
            "  [1.65849154 0.74640983 2.01065259]\n",
            "  [1.30205716 0.53851687 1.6793864 ]]\n",
            "\n",
            " [[1.02483539 0.69452105 0.94906196]\n",
            "  [1.11900687 0.74440623 1.17127183]\n",
            "  [1.02057297 0.53319234 0.88871561]\n",
            "  ...\n",
            "  [0.99908574 0.34057256 0.41510893]\n",
            "  [0.84424215 0.2998968  0.37949184]\n",
            "  [0.87228096 0.39809851 0.42524684]]\n",
            "\n",
            " ...\n",
            "\n",
            " [[1.02483539 0.69452105 0.94906196]\n",
            "  [1.11900687 0.74440623 1.17127183]\n",
            "  [1.02057297 0.53319234 0.88871561]\n",
            "  ...\n",
            "  [1.45286713 2.8783833  1.58558192]\n",
            "  [1.51350801 3.63023775 1.70230657]\n",
            "  [1.18487081 3.09406966 1.64915344]]\n",
            "\n",
            " [[1.02483539 0.69452105 0.94906196]\n",
            "  [1.11900687 0.74440623 1.17127183]\n",
            "  [1.02057297 0.53319234 0.88871561]\n",
            "  ...\n",
            "  [1.30689426 0.52264006 0.71020602]\n",
            "  [1.16144215 0.53209057 0.66362252]\n",
            "  [1.33583934 0.58079705 0.65451271]]\n",
            "\n",
            " [[1.02483539 0.69452105 0.94906196]\n",
            "  [1.11900687 0.74440623 1.17127183]\n",
            "  [1.02057297 0.53319234 0.88871561]\n",
            "  ...\n",
            "  [2.51668503 0.40428949 1.69483972]\n",
            "  [2.64844952 0.48886068 1.98503716]\n",
            "  [2.06675097 0.34403228 2.05035243]]]\n"
          ]
        }
      ],
      "source": [
        "print(rets)"
      ]
    },
    {
      "cell_type": "code",
      "execution_count": 7,
      "metadata": {},
      "outputs": [
        {
          "data": {
            "text/plain": [
              "(100000, 20, 3)"
            ]
          },
          "execution_count": 7,
          "metadata": {},
          "output_type": "execute_result"
        }
      ],
      "source": [
        "rets.shape"
      ]
    },
    {
      "cell_type": "code",
      "execution_count": 8,
      "metadata": {},
      "outputs": [],
      "source": [
        "np.savez_compressed('Datos/Transformados/montecarlo_data.npz', features=rets, target=payoff)"
      ]
    },
    {
      "cell_type": "markdown",
      "metadata": {
        "id": "IFtar3mXMTuv"
      },
      "source": [
        "### Valor presente\n",
        "\n",
        "Dados todos los timesteps:"
      ]
    },
    {
      "cell_type": "code",
      "execution_count": 9,
      "metadata": {
        "id": "XmeG_pLmHWB8"
      },
      "outputs": [],
      "source": [
        "#present_value (numpy.ndarray): present value of the payoff in every time step. Shape (num_sims, num_asian_dates-1)\n",
        "\n",
        "time_array = np.linspace(0, initial_maturity, num_steps)\n",
        "\n",
        "present_value = np.matmul(payoff.reshape(-1,1),np.exp(- risk_free_rate*(initial_maturity-time_array )).reshape(1,-1))"
      ]
    },
    {
      "cell_type": "code",
      "execution_count": 10,
      "metadata": {},
      "outputs": [
        {
          "name": "stdout",
          "output_type": "stream",
          "text": [
            "[[0.         0.         0.         ... 0.         0.         0.        ]\n",
            " [0.05920886 0.05936488 0.05952131 ... 0.06191782 0.06208098 0.06224456]\n",
            " [0.         0.         0.         ... 0.         0.         0.        ]\n",
            " ...\n",
            " [0.33679166 0.33767912 0.33856892 ... 0.35220076 0.35312883 0.35405934]\n",
            " [0.         0.         0.         ... 0.         0.         0.        ]\n",
            " [0.         0.         0.         ... 0.         0.         0.        ]]\n"
          ]
        }
      ],
      "source": [
        "print(present_value)"
      ]
    }
  ],
  "metadata": {
    "colab": {
      "provenance": []
    },
    "kernelspec": {
      "display_name": "Amarillo_R9",
      "language": "python",
      "name": "python3"
    },
    "language_info": {
      "codemirror_mode": {
        "name": "ipython",
        "version": 3
      },
      "file_extension": ".py",
      "mimetype": "text/x-python",
      "name": "python",
      "nbconvert_exporter": "python",
      "pygments_lexer": "ipython3",
      "version": "3.13.7"
    }
  },
  "nbformat": 4,
  "nbformat_minor": 0
}
