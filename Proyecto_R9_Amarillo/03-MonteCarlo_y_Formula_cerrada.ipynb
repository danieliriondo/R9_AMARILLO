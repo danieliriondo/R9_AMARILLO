{
  "cells": [
    {
      "cell_type": "markdown",
      "metadata": {
        "id": "AnOpCU41MpLP"
      },
      "source": [
        "## Simulación de MonteCarlo"
      ]
    },
    {
      "cell_type": "markdown",
      "metadata": {},
      "source": [
        "Los activos elegidos para formar nuestra cartera han sido:\n",
        "\n",
        "PG → Procter & Gamble Co.\n",
        "\n",
        "CRM → Salesforce, Inc.\n",
        "\n",
        "DIS → The Walt Disney Company"
      ]
    },
    {
      "cell_type": "code",
      "execution_count": 17,
      "metadata": {
        "id": "DRzOvNx7HKqO"
      },
      "outputs": [],
      "source": [
        "import numpy as np\n",
        "from numpy.linalg import cholesky"
      ]
    },
    {
      "cell_type": "code",
      "execution_count": 18,
      "metadata": {
        "id": "I85TjGgVGZNF"
      },
      "outputs": [],
      "source": [
        "def MonteCarlo(initial_maturity, S_0, num_sims, num_assets, num_asian_dates, value_date_index, correl_matrix,risk_free_rate, vols):\n",
        "    '''\n",
        "  Inputs:\n",
        "  -------\n",
        "  * S_0 (float): initial spot prices of the assets\n",
        "  * num_asian_dates (int): number of asian dates. Notice that this includes the initial date, which fixes the initial spot values.\n",
        "  * value_date_index (int): index, within the array of asian dates indicating the value date. (Actual step)\n",
        "  * risk_free_rate (float): risk free rate\n",
        "  * num_assets (int): number of underlying assets.\n",
        "  * vols (array(float)): array of indiv assets vols.\n",
        "  * correl_matrix (array(float, float)): matrix of correlations\n",
        "  * initial_maturity (float): maturity of the product as seen on initial spot fixing date. (Years)\n",
        "  * num_sims (int): number of simulations\n",
        "  Outputs:\n",
        "  --------\n",
        "  * rets (numpy.ndarray): simulation of the evolution of the assets. Shape (num_sims, num_asian_dates-1, num_assets)\n",
        "  * payoff (numpy.ndarray): Payoff of every simulation done. Shape (num_sims, )\n",
        "  * premium (numpy.float64): present value in the actual step given by value_date_index.\n",
        "  '''\n",
        "\n",
        "    # Inputs:\n",
        "\n",
        "    # Simulation of assets up to value date:\n",
        "\n",
        "    init_time_array = np.linspace(0, initial_maturity, num_asian_dates)\n",
        "\n",
        "    delta_t = initial_maturity / (num_asian_dates - 1)\n",
        "    num_steps = value_date_index\n",
        "    num_remaining_steps = num_asian_dates - value_date_index -1\n",
        "\n",
        "    # Independent brownians\n",
        "    inc_W = np.random.normal(size=(num_assets, num_steps), scale = np.sqrt(delta_t))\n",
        "\n",
        "    # Cholesky matrix\n",
        "    m = cholesky(correl_matrix)\n",
        "\n",
        "    # Correlated brownians\n",
        "    inc_W_correl = np.matmul(m, inc_W)\n",
        "\n",
        "    # Independent brownian motion (the axis order is done to be able to correlate them with a matrix multiplication)\n",
        "    inc_W_remaining = np.random.normal(size=(num_sims, num_remaining_steps, num_assets), scale = np.sqrt(delta_t))\n",
        "\n",
        "    # We correlate them\n",
        "    inc_W_correl_remaining = np.matmul(inc_W_remaining, m.T)\n",
        "\n",
        "    # We transpose the 3D matrix of correlated B. motion (path, asset, time step)\n",
        "\n",
        "    inc_W_correl_remaining = inc_W_correl_remaining.transpose([0,2,1])\n",
        "\n",
        "    aux = np.repeat(inc_W_correl[None,...],num_sims,axis=0)\n",
        "\n",
        "    # We attach the brownians obtained from t= 0 to value date\n",
        "\n",
        "    inc_W_correl_total = np.concatenate((aux, inc_W_correl_remaining), axis = 2)\n",
        "\n",
        "    # We compute exponential returns\n",
        "\n",
        "    gross_rets_total = np.exp((risk_free_rate - 0.5 *vols **2) * delta_t + vols * inc_W_correl_total)\n",
        "\n",
        "    # We simulate the underlyings\n",
        "\n",
        "    S_T = np.cumprod(np.concatenate((np.repeat(S_0.reshape(-1,1)[None,...],num_sims,axis=0), gross_rets_total), axis = 2), axis = 2)\n",
        "\n",
        "    # We compute the returns\n",
        "\n",
        "    rets = S_T[:,:,1:] / np.repeat(S_0.reshape(-1,1)[None,...],num_sims,axis=0)\n",
        "\n",
        "    payoff = np.maximum(np.sum(np.prod(rets, axis = (2))**(1/(num_assets * (num_asian_dates-1))), axis = 1)-3,0)\n",
        "\n",
        "    # Calculate the premium as the discounted average value\n",
        "\n",
        "    premium = np.mean(payoff*np.exp(-risk_free_rate*(initial_maturity-init_time_array[value_date_index])))\n",
        "\n",
        "    rets = rets.transpose([0,2,1])\n",
        "\n",
        "    return rets, payoff, premium"
      ]
    },
    {
      "cell_type": "code",
      "execution_count": 19,
      "metadata": {
        "id": "Jbw7ezb2HI-9"
      },
      "outputs": [],
      "source": [
        "S_0 = np.array([1,1,1])\n",
        "num_steps = 20\n",
        "vols = np.array([0.29,0.38,0.33]).reshape(-1,1)\n",
        "risk_free_rate = 0.01\n",
        "\n",
        "\n",
        "TTM = initial_maturity = 5 #years\n",
        "value_date_index = 5 #actual step\n",
        "num_asian_dates = num_steps + 1 #Time steps + 1\n",
        "init_time_array = np.linspace(0, initial_maturity, num_asian_dates)\n",
        "\n",
        "rho = 0.1\n",
        "correl_matrix = rho = np.array([\n",
        "    [1, 0.275125, 0.329366],\n",
        "    [0.275125, 1, 0.381295],\n",
        "    [0.329366, 0.381295, 1]\n",
        "]) \n",
        "\n",
        "\n",
        "num_sims = 100000\n",
        "\n",
        "num_assets = 3 #numero de activos\n",
        "\n",
        "rets, payoff, premium = MonteCarlo(initial_maturity, S_0, num_sims, num_assets, num_asian_dates, value_date_index, correl_matrix,risk_free_rate, vols)"
      ]
    },
    {
      "cell_type": "code",
      "execution_count": 20,
      "metadata": {},
      "outputs": [
        {
          "name": "stdout",
          "output_type": "stream",
          "text": [
            "[[[0.85573127 0.96924832 1.24146327]\n",
            "  [1.00158083 1.04115819 1.5098598 ]\n",
            "  [1.16004432 1.0204133  1.62233898]\n",
            "  ...\n",
            "  [0.976757   0.90227535 0.88568763]\n",
            "  [0.91675493 1.12009724 0.98186225]\n",
            "  [0.78215896 1.23721569 0.83581153]]\n",
            "\n",
            " [[0.85573127 0.96924832 1.24146327]\n",
            "  [1.00158083 1.04115819 1.5098598 ]\n",
            "  [1.16004432 1.0204133  1.62233898]\n",
            "  ...\n",
            "  [1.61357489 1.30622905 1.69552469]\n",
            "  [1.61827597 1.60040278 1.62636733]\n",
            "  [1.42848126 1.67437242 1.68815395]]\n",
            "\n",
            " [[0.85573127 0.96924832 1.24146327]\n",
            "  [1.00158083 1.04115819 1.5098598 ]\n",
            "  [1.16004432 1.0204133  1.62233898]\n",
            "  ...\n",
            "  [0.71629448 0.59099308 1.9447341 ]\n",
            "  [0.68220946 0.77085705 1.88485168]\n",
            "  [0.71823071 0.72322813 1.9401624 ]]\n",
            "\n",
            " ...\n",
            "\n",
            " [[0.85573127 0.96924832 1.24146327]\n",
            "  [1.00158083 1.04115819 1.5098598 ]\n",
            "  [1.16004432 1.0204133  1.62233898]\n",
            "  ...\n",
            "  [0.72284722 0.44743371 1.25845306]\n",
            "  [0.68127983 0.43447663 1.44029552]\n",
            "  [0.63127304 0.29423642 1.25106509]]\n",
            "\n",
            " [[0.85573127 0.96924832 1.24146327]\n",
            "  [1.00158083 1.04115819 1.5098598 ]\n",
            "  [1.16004432 1.0204133  1.62233898]\n",
            "  ...\n",
            "  [1.11644381 0.67502764 1.65990426]\n",
            "  [1.32109388 0.78338338 1.71713413]\n",
            "  [1.19639108 1.17211741 2.06827229]]\n",
            "\n",
            " [[0.85573127 0.96924832 1.24146327]\n",
            "  [1.00158083 1.04115819 1.5098598 ]\n",
            "  [1.16004432 1.0204133  1.62233898]\n",
            "  ...\n",
            "  [0.44806041 0.80270915 0.97504604]\n",
            "  [0.39110032 0.8291358  0.91718897]\n",
            "  [0.43719138 0.91117433 1.0733237 ]]]\n"
          ]
        }
      ],
      "source": [
        "print(rets)"
      ]
    },
    {
      "cell_type": "code",
      "execution_count": 21,
      "metadata": {},
      "outputs": [
        {
          "name": "stdout",
          "output_type": "stream",
          "text": [
            "0.09131518841125034\n"
          ]
        }
      ],
      "source": [
        "print(premium)"
      ]
    },
    {
      "cell_type": "markdown",
      "metadata": {
        "id": "IFtar3mXMTuv"
      },
      "source": [
        "### Valor presente\n",
        "\n",
        "Dados todos los timesteps:"
      ]
    },
    {
      "cell_type": "code",
      "execution_count": 22,
      "metadata": {
        "id": "XmeG_pLmHWB8"
      },
      "outputs": [],
      "source": [
        "#present_value (numpy.ndarray): present value of the payoff in every time step. Shape (num_sims, num_asian_dates-1)\n",
        "\n",
        "time_array = np.linspace(0, initial_maturity, num_steps)\n",
        "\n",
        "present_value = np.matmul(payoff.reshape(-1,1),np.exp(- risk_free_rate*(initial_maturity-time_array )).reshape(1,-1))"
      ]
    },
    {
      "cell_type": "code",
      "execution_count": 23,
      "metadata": {},
      "outputs": [
        {
          "name": "stdout",
          "output_type": "stream",
          "text": [
            "[[0.         0.         0.         ... 0.         0.         0.        ]\n",
            " [0.17361096 0.17406843 0.17452711 ... 0.18155411 0.18203252 0.18251218]\n",
            " [0.06396712 0.06413567 0.06430467 ... 0.06689378 0.06707005 0.06724678]\n",
            " ...\n",
            " [0.         0.         0.         ... 0.         0.         0.        ]\n",
            " [0.02726378 0.02733562 0.02740765 ... 0.02851117 0.0285863  0.02866163]\n",
            " [0.         0.         0.         ... 0.         0.         0.        ]]\n"
          ]
        }
      ],
      "source": [
        "print(present_value)"
      ]
    },
    {
      "cell_type": "markdown",
      "metadata": {
        "id": "Rw1VXLWlGkHm"
      },
      "source": [
        "## Formula cerrada\n",
        "\n",
        "Let's assume that:\n",
        "\n",
        "$$S_T^j=S_t^j\\exp\\left(\\left(r-\\sigma_j^2/2\\right)\\left(t_n-t\\right)+\\sigma_i\\left(W^j_T-W^j_t\\right)\\right)$$\n",
        "\n",
        "And that the different underlyings are correlated with correlations $\\rho_{ij}$.\n",
        "\n",
        "We are interested in the following expected value\n",
        "\n",
        "$$V_{t_v}=E\\left[\\left(\\left(\\prod_{i=1}^{n}\\prod_{j=1}^{m}\\frac{S_{t_i}^j}{S_{t_0}^j}\\right)^{\\frac{1}{nm}}-1\\right)^+\\exp\\left(-r\\left(t_n-t_v\\right)\\right)\\Bigg{|}\\mathcal{F}_{t_v}\\right]$$\n",
        "\n",
        "Where $\\mathcal{F}_t$ represents that $S^j_{t_i}$ has been observed $\\forall j$ and $t_i,\\ \\ i=0,\\ldots,v$\n",
        "\n",
        "\n",
        "$$V_{t_v}=E\\left[\\left(\\left(\\prod_{i=1}^{v}\\prod_{j=1}^{m}\\frac{S_{t_i}^j}{S_{t_0}^j}\\right)^{\\frac{1}{nm}}\\left(\\prod_{i=v+1}^{n}\\prod_{j=1}^{m}\\frac{S_{t_i}^j}{S_{t_0}^j}\\right)^{\\frac{1}{nm}}-1\\right)^+\\exp\\left(-r\\left(t_n-t_v\\right)\\right)\\Bigg{|}\\mathcal{F}_{t_v}\\right]$$\n",
        "\n",
        "Conditioned on $\\mathcal{F}_t$, the term $\\prod_{i=v+1}^{n}\\prod_{j=1}^{m}\\frac{S_{t_i}^j}{S_{t_0}^j}$ is the only stochastic term inside the expected value. Since under Black Scholes dynamics this term is the product of variables lognormally distributed, it is itself lognormal. Therefore, in order to derive the expression of the expected value we should derive the expression of the expected value and the variance of the logarithm of this term.\n"
      ]
    },
    {
      "cell_type": "code",
      "execution_count": 24,
      "metadata": {
        "id": "O1452_L0GlFM"
      },
      "outputs": [],
      "source": [
        "from scipy.stats import norm\n",
        "\n",
        "N = norm.cdf\n",
        "\n",
        "def Black(Forward, Strike, TTM, rate, Vol, IsCall):\n",
        "\n",
        "  '''\n",
        "  Inputs:\n",
        "  -------\n",
        "    Forward (float): Forward value\n",
        "    Strike (float): strike price\n",
        "    TTM (float): time to maturity in years\n",
        "    rate (float): risk free rate\n",
        "    Vol (float): volatility\n",
        "    IsCall (bool): True if call option, False if put option\n",
        "  Outputs:\n",
        "  --------\n",
        "    Option premium (float)\n",
        "  '''\n",
        "\n",
        "  if TTM >0:\n",
        "\n",
        "    d1 = (np.log(Forward/Strike) + (Vol*Vol/2)*TTM)/(Vol*np.sqrt(TTM))\n",
        "    d2 = (np.log(Forward/Strike) + (- Vol*Vol/2)*TTM)/(Vol*np.sqrt(TTM))\n",
        "\n",
        "    if IsCall:\n",
        "\n",
        "      return (Forward*N(d1)-Strike*N(d2))*np.exp(-rate*TTM)\n",
        "\n",
        "    else:\n",
        "\n",
        "      return (-Forward*N(-d1)+Strike*N(-d2))*np.exp(-rate*TTM)\n",
        "\n",
        "  else:\n",
        "\n",
        "    if IsCall:\n",
        "\n",
        "      return np.maximum(Forward-Strike,0)\n",
        "\n",
        "    else:\n",
        "\n",
        "      return np.maximum(-Forward+Strike,0)"
      ]
    },
    {
      "cell_type": "code",
      "execution_count": 25,
      "metadata": {
        "id": "p9w6-o1kGnbV"
      },
      "outputs": [],
      "source": [
        "def BasketGeomAsian(num_asian_dates, value_date_index, risk_free_rate, num_assets, assets_vol, assets_correl, initial_maturity, price_history, IsCall):\n",
        "  '''\n",
        "  Inputs:\n",
        "  -------\n",
        "  * num_asian_dates (int): number of asian dates. Notice that this includes the initial date, which fixes the initial spot values.\n",
        "  * value_date_index (int): index, within the array of asian dates indicating the value date.\n",
        "  * risk_free_rate (float): risk free rate\n",
        "  * num_assets (int): number of underlying assets.\n",
        "  * assets_vol (array(float)): array of indiv assets vols.\n",
        "  * assets_correl (array(float, float)): matrix of correlations\n",
        "  * initial_maturity (float): maturity of the product as seen on initial spot fixing date.\n",
        "  * price_history (array(float, float)): history of fixings of the underlyings up to value date. Assets per row, time steps per column.\n",
        "  * IsCall (bool): True if call option, False if put option\n",
        "  Outputs:\n",
        "  --------\n",
        "  * Option price (float)\n",
        "  '''\n",
        "\n",
        "  init_time_array = np.linspace(0, initial_maturity, num_asian_dates)\n",
        "\n",
        "  pending_times_array = init_time_array[value_date_index+1:] - init_time_array[value_date_index]\n",
        "\n",
        "  mu = np.sum(risk_free_rate - 0.5*assets_vol*assets_vol)*np.sum(pending_times_array) / (num_assets * (num_asian_dates-1))\n",
        "\n",
        "  diag_vol = np.diag(assets_vol.reshape(-1))\n",
        "\n",
        "  cov_matrix = np.matmul(diag_vol, np.matmul(assets_correl, diag_vol))\n",
        "\n",
        "  xx, yy = np.meshgrid(pending_times_array, pending_times_array, sparse=True)\n",
        "  z = np.minimum(xx, yy)\n",
        "\n",
        "  V = np.sum(cov_matrix) * np.sum(z) / (num_assets*num_assets*(num_asian_dates-1)*(num_asian_dates-1))\n",
        "\n",
        "  Forward = np.power(np.prod(price_history[:, 1:value_date_index+1] / price_history[:,0].reshape(-1,1)),1.0/(num_assets * (num_asian_dates-1)))\n",
        "\n",
        "  Forward *= np.power(np.prod(price_history[:,value_date_index] / price_history[:,0]), (num_asian_dates-value_date_index-1)/(num_assets * (num_asian_dates-1)))\n",
        "\n",
        "  Forward *= np.exp(mu + 0.5 * V)\n",
        "\n",
        "  remaining_maturity = initial_maturity - init_time_array[value_date_index]\n",
        "\n",
        "\n",
        "  return Black(Forward, 1.0, remaining_maturity, risk_free_rate,np.sqrt(V / remaining_maturity), IsCall)\n"
      ]
    },
    {
      "cell_type": "markdown",
      "metadata": {
        "id": "Aw1DryoAPaz1"
      },
      "source": [
        "##  Comparando Simulación y Formula cerrada"
      ]
    },
    {
      "cell_type": "code",
      "execution_count": 26,
      "metadata": {
        "id": "FGd_wwHMGqxO"
      },
      "outputs": [],
      "source": [
        "import random\n",
        "premium_20 = []\n",
        "analytics_20 = []\n",
        "for i in np.arange(1,20):\n",
        "  random.seed(77)\n",
        "  simu, payoff, premium = MonteCarlo(initial_maturity, S_0, num_sims, num_assets, num_asian_dates, i, correl_matrix,risk_free_rate, vols)\n",
        "\n",
        "  simu2 = simu.transpose([0,2,1])\n",
        "\n",
        "  analytic = BasketGeomAsian(num_asian_dates, i, risk_free_rate, num_assets, vols, correl_matrix, initial_maturity, simu2[1,:,:(i+1)], True)\n",
        "  premium_20.append(premium)\n",
        "  analytics_20.append(analytic)"
      ]
    },
    {
      "cell_type": "code",
      "execution_count": 27,
      "metadata": {
        "colab": {
          "base_uri": "https://localhost:8080/",
          "height": 472
        },
        "id": "RXTQeGw5PvGd",
        "outputId": "4478b1de-76c1-4e20-f165-4a2565dbb9bf"
      },
      "outputs": [
        {
          "data": {
            "image/png": "[encoded data removed]",
            "text/plain": [
              "<Figure size 640x480 with 1 Axes>"
            ]
          },
          "metadata": {},
          "output_type": "display_data"
        }
      ],
      "source": [
        "import matplotlib.pyplot as plt\n",
        "plt.plot(analytics_20,\"o\", color='green', label='Formula')\n",
        "plt.plot(premium_20,\"o\", color='orange', label='MC')\n",
        "plt.legend()\n",
        "plt.title(\"Payoff\")\n",
        "plt.xlabel('Time Step')\n",
        "plt.ylabel('Payoff')\n",
        "plt.show()"
      ]
    },
    {
      "cell_type": "code",
      "execution_count": null,
      "metadata": {
        "id": "tP7pvfo4P85e"
      },
      "outputs": [],
      "source": []
    }
  ],
  "metadata": {
    "colab": {
      "provenance": []
    },
    "kernelspec": {
      "display_name": "Python 3",
      "name": "python3"
    },
    "language_info": {
      "codemirror_mode": {
        "name": "ipython",
        "version": 3
      },
      "file_extension": ".py",
      "mimetype": "text/x-python",
      "name": "python",
      "nbconvert_exporter": "python",
      "pygments_lexer": "ipython3",
      "version": "3.13.0"
    }
  },
  "nbformat": 4,
  "nbformat_minor": 0
}
