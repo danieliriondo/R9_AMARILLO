{
  "cells": [
    {
      "cell_type": "markdown",
      "metadata": {
        "id": "AnOpCU41MpLP"
      },
      "source": [
        "## Simulación de MonteCarlo"
      ]
    },
    {
      "cell_type": "code",
      "execution_count": 17,
      "metadata": {
        "id": "DRzOvNx7HKqO"
      },
      "outputs": [],
      "source": [
        "import numpy as np\n",
        "from numpy.linalg import cholesky\n",
        "from MC_cerrada import *\n",
        "\n",
        "np.random.seed(77)"
      ]
    },
    {
      "cell_type": "code",
      "execution_count": 18,
      "metadata": {
        "id": "Jbw7ezb2HI-9"
      },
      "outputs": [],
      "source": [
        "S_0 = np.array([1,1,1])\n",
        "num_steps = 20\n",
        "vols = np.array([0.29,0.38,0.33]).reshape(-1,1)\n",
        "risk_free_rate = 0.01\n",
        "\n",
        "\n",
        "TTM = initial_maturity = 5 #years\n",
        "value_date_index = 5 #actual step\n",
        "num_asian_dates = num_steps + 1 #Time steps + 1\n",
        "init_time_array = np.linspace(0, initial_maturity, num_asian_dates)\n",
        "\n",
        "rho = 0.1\n",
        "correl_matrix = rho = np.array([\n",
        "    [1, 0.275125, 0.329366],\n",
        "    [0.275125, 1, 0.381295],\n",
        "    [0.329366, 0.381295, 1]\n",
        "]) \n",
        "\n",
        "\n",
        "num_sims = 100000\n",
        "\n",
        "num_assets = 3 #numero de activos\n",
        "\n",
        "rets, payoff, premium = MonteCarlo(initial_maturity, S_0, num_sims, num_assets, num_asian_dates, value_date_index, correl_matrix,risk_free_rate, vols)"
      ]
    },
    {
      "cell_type": "code",
      "execution_count": 19,
      "metadata": {},
      "outputs": [
        {
          "name": "stdout",
          "output_type": "stream",
          "text": [
            "[[[1.02483539 0.69452105 0.94906196]\n",
            "  [1.11900687 0.74440623 1.17127183]\n",
            "  [1.02057297 0.53319234 0.88871561]\n",
            "  ...\n",
            "  [0.63693688 0.17206475 0.26833344]\n",
            "  [0.67225676 0.20161834 0.33230861]\n",
            "  [0.65371429 0.1524178  0.36082416]]\n",
            "\n",
            " [[1.02483539 0.69452105 0.94906196]\n",
            "  [1.11900687 0.74440623 1.17127183]\n",
            "  [1.02057297 0.53319234 0.88871561]\n",
            "  ...\n",
            "  [1.72532464 0.77897512 1.8417265 ]\n",
            "  [1.65849154 0.74640983 2.01065259]\n",
            "  [1.30205716 0.53851687 1.6793864 ]]\n",
            "\n",
            " [[1.02483539 0.69452105 0.94906196]\n",
            "  [1.11900687 0.74440623 1.17127183]\n",
            "  [1.02057297 0.53319234 0.88871561]\n",
            "  ...\n",
            "  [0.99908574 0.34057256 0.41510893]\n",
            "  [0.84424215 0.2998968  0.37949184]\n",
            "  [0.87228096 0.39809851 0.42524684]]\n",
            "\n",
            " ...\n",
            "\n",
            " [[1.02483539 0.69452105 0.94906196]\n",
            "  [1.11900687 0.74440623 1.17127183]\n",
            "  [1.02057297 0.53319234 0.88871561]\n",
            "  ...\n",
            "  [1.45286713 2.8783833  1.58558192]\n",
            "  [1.51350801 3.63023775 1.70230657]\n",
            "  [1.18487081 3.09406966 1.64915344]]\n",
            "\n",
            " [[1.02483539 0.69452105 0.94906196]\n",
            "  [1.11900687 0.74440623 1.17127183]\n",
            "  [1.02057297 0.53319234 0.88871561]\n",
            "  ...\n",
            "  [1.30689426 0.52264006 0.71020602]\n",
            "  [1.16144215 0.53209057 0.66362252]\n",
            "  [1.33583934 0.58079705 0.65451271]]\n",
            "\n",
            " [[1.02483539 0.69452105 0.94906196]\n",
            "  [1.11900687 0.74440623 1.17127183]\n",
            "  [1.02057297 0.53319234 0.88871561]\n",
            "  ...\n",
            "  [2.51668503 0.40428949 1.69483972]\n",
            "  [2.64844952 0.48886068 1.98503716]\n",
            "  [2.06675097 0.34403228 2.05035243]]]\n"
          ]
        }
      ],
      "source": [
        "print(rets)"
      ]
    },
    {
      "cell_type": "code",
      "execution_count": 20,
      "metadata": {},
      "outputs": [
        {
          "data": {
            "text/plain": [
              "(100000, 20, 3)"
            ]
          },
          "execution_count": 20,
          "metadata": {},
          "output_type": "execute_result"
        }
      ],
      "source": [
        "rets.shape"
      ]
    },
    {
      "cell_type": "code",
      "execution_count": 21,
      "metadata": {},
      "outputs": [],
      "source": [
        "np.savez_compressed('Datos/Transformados/montecarlo_data.npz', features=rets, target=payoff)"
      ]
    },
    {
      "cell_type": "markdown",
      "metadata": {
        "id": "IFtar3mXMTuv"
      },
      "source": [
        "### Valor presente\n",
        "\n",
        "Dados todos los timesteps:"
      ]
    },
    {
      "cell_type": "code",
      "execution_count": 22,
      "metadata": {
        "id": "XmeG_pLmHWB8"
      },
      "outputs": [],
      "source": [
        "#present_value (numpy.ndarray): present value of the payoff in every time step. Shape (num_sims, num_asian_dates-1)\n",
        "\n",
        "time_array = np.linspace(0, initial_maturity, num_steps)\n",
        "\n",
        "present_value = np.matmul(payoff.reshape(-1,1),np.exp(- risk_free_rate*(initial_maturity-time_array )).reshape(1,-1))"
      ]
    },
    {
      "cell_type": "code",
      "execution_count": 23,
      "metadata": {},
      "outputs": [
        {
          "name": "stdout",
          "output_type": "stream",
          "text": [
            "[[0.         0.         0.         ... 0.         0.         0.        ]\n",
            " [0.05920886 0.05936488 0.05952131 ... 0.06191782 0.06208098 0.06224456]\n",
            " [0.         0.         0.         ... 0.         0.         0.        ]\n",
            " ...\n",
            " [0.33679166 0.33767912 0.33856892 ... 0.35220076 0.35312883 0.35405934]\n",
            " [0.         0.         0.         ... 0.         0.         0.        ]\n",
            " [0.         0.         0.         ... 0.         0.         0.        ]]\n"
          ]
        }
      ],
      "source": [
        "print(present_value)"
      ]
    }
  ],
  "metadata": {
    "colab": {
      "provenance": []
    },
    "kernelspec": {
      "display_name": "Amarillo_R9",
      "language": "python",
      "name": "python3"
    },
    "language_info": {
      "codemirror_mode": {
        "name": "ipython",
        "version": 3
      },
      "file_extension": ".py",
      "mimetype": "text/x-python",
      "name": "python",
      "nbconvert_exporter": "python",
      "pygments_lexer": "ipython3",
      "version": "3.13.7"
    }
  },
  "nbformat": 4,
  "nbformat_minor": 0
}
